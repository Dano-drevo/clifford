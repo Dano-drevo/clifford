{
 "cells": [
  {
   "cell_type": "markdown",
   "metadata": {},
   "source": [
    "# Lines\n"
   ]
  },
  {
   "cell_type": "markdown",
   "metadata": {},
   "source": [
    "## Part II of the semester project for 0AV  $ \\rightarrow $ see the [preface](00_0AV_semestralny_projekt.ipynb)\n"
   ]
  },
  {
   "cell_type": "markdown",
   "metadata": {},
   "source": [
    "### Priamka je definovaná ako:\n",
    "<ul>\n",
    "    <li>\n",
    "        Prienik dvoch rovnín v <b>IPNS</b>:<br>        \n",
    "        $ L = \\pi_1 \\wedge \\pi_2 $\n",
    "    </li>\n",
    "    <br>\n",
    "    <li>\n",
    "        Wedge dvoch bodov a $ e_\\infty $ v <b>OPNS</b>:<br>\n",
    "        $ L^{*} = P_1 \\wedge P_2 \\wedge e_\\infty $\n",
    "    </li>\n",
    "</ul>"
   ]
  },
  {
   "cell_type": "code",
   "execution_count": null,
   "metadata": {},
   "outputs": [],
   "source": [
    "# Import Pretty Printing\n",
    "from pprint import pprint as p\n",
    "\n",
    "# Import Conformal GA (4,1)\n",
    "from clifford.g3c import *\n",
    "\n",
    "# Import prebuilt tools for conformal GA\n",
    "from clifford.tools.g3c import *\n",
    "\n",
    "# Import pyganja for visualisation\n",
    "from pyganja import *\n",
    "\n",
    "import numpy as np"
   ]
  },
  {
   "cell_type": "markdown",
   "metadata": {},
   "source": [
    "## OPNS"
   ]
  },
  {
   "cell_type": "markdown",
   "metadata": {},
   "source": [
    "#### Priamka ako wedge 2 konformných bodov a  $ e_\\infty $"
   ]
  },
  {
   "cell_type": "code",
   "execution_count": null,
   "metadata": {},
   "outputs": [],
   "source": [
    "gs = GanjaScene()\n",
    "\n",
    "origin = up(eo)\n",
    "origin_line_OPNS = up(100*e3) ^ origin ^ einf  # priamka ako wedge dvoch bodov a bodu v nekonecne (v OPNS)\n",
    "gs.add_objects([origin, origin_line_OPNS], label='line O')\n",
    "\n",
    "other_point = up(100*e1)\n",
    "some_other_point = up(100*e1+100*e3)\n",
    "other_line_OPNS =  other_point ^ some_other_point ^ einf  # -||-\n",
    "\n",
    "gs.add_objects([ other_point, other_line_OPNS], label='line X', color=Color.RED)\n",
    "draw(gs, scale=0.01, static=False)"
   ]
  },
  {
   "cell_type": "markdown",
   "metadata": {},
   "source": [
    "#### Uhol zvieraný dvoma (tu rovnobežnými) priamkami"
   ]
  },
  {
   "cell_type": "code",
   "execution_count": null,
   "metadata": {},
   "outputs": [],
   "source": [
    "line1, line2 = origin_line_OPNS, other_line_OPNS\n",
    "\n",
    "lines_angle_cos = abs(line1.normal() | line2.normal())\n",
    "lines_angle_rad = np.arccos(lines_angle_cos)\n",
    "lines_angle_grad = math.degrees(lines_angle_rad)\n",
    "print(f'Uhol priamok je: {lines_angle_grad} stupnov.')\n",
    "\n",
    "message = \"Priamky sú si rovnobežné.\" if lines_angle_grad == 0 else 'Priamky sú rôznobežné..'\n",
    "print(message)"
   ]
  },
  {
   "cell_type": "markdown",
   "metadata": {},
   "source": [
    "## IPNS"
   ]
  },
  {
   "cell_type": "markdown",
   "metadata": {},
   "source": [
    "#### Priamka ako prienik dvoch rôznobežných rovín"
   ]
  },
  {
   "cell_type": "code",
   "execution_count": null,
   "metadata": {},
   "outputs": [],
   "source": [
    "gs1 = GanjaScene()\n",
    "\n",
    "H1_OPNS = -(7.09822^e1234) - (7.09822^e1235) + (0.76472^e1245) + (0.33229^e1345) + (0.55207^e2345)  # random_plane1\n",
    "H2_OPNS = -(1.36451^e1234) - (1.36451^e1235) - (0.67116^e1245) + (0.29108^e1345) + (0.68178^e2345)  # random_plane2\n",
    "\n",
    "gs1.add_objects([H1_OPNS], label='      Rovina H1', color=Color.BLUE)\n",
    "gs1.add_objects([H2_OPNS], label='      Rovina H2', color=Color.RED)\n",
    "draw(gs1, static=False, scale=0.1)\n",
    "\n",
    "\n",
    "hyperplanes_wedge_OPNS = H1_OPNS ^ H2_OPNS  # wedge dvoch rovin v OPNS --> nejde\n",
    "p(hyperplanes_wedge_OPNS)\n",
    "print('\\n...INTERMEZZO...\\n')\n",
    "\n",
    "hyperplanes_wedge_IPNS = H1_OPNS.dual() ^ H2_OPNS.dual()  # priamka ako prienik dvoch rovin v IPNS --> ide\n",
    "p(hyperplanes_wedge_IPNS)\n",
    "\n",
    "gs1.add_objects([hyperplanes_wedge_IPNS.dual()], label='          Prienik rovin v IPNS', color=Color.GREEN)\n",
    "\n",
    "draw(gs1, static=False, scale=0.1)"
   ]
  }
 ],
 "metadata": {
  "kernelspec": {
   "display_name": "Python 3",
   "language": "python",
   "name": "python3"
  },
  "language_info": {
   "codemirror_mode": {
    "name": "ipython",
    "version": 3
   },
   "file_extension": ".py",
   "mimetype": "text/x-python",
   "name": "python",
   "nbconvert_exporter": "python",
   "pygments_lexer": "ipython3",
   "version": "3.7.4"
  }
 },
 "nbformat": 4,
 "nbformat_minor": 4
}
