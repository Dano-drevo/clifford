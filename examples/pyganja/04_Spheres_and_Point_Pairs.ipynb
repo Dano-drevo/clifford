{
 "cells": [
  {
   "cell_type": "markdown",
   "metadata": {},
   "source": [
    "# Spheres & Point Pairs"
   ]
  },
  {
   "cell_type": "markdown",
   "metadata": {},
   "source": [
    "## Part IV of the semester project for 0AV  $ \\rightarrow $ see the [preface](00_0AV_semestralny_projekt.ipynb)"
   ]
  },
  {
   "cell_type": "markdown",
   "metadata": {},
   "source": [
    "### Guľa je definovaná ako:\n",
    "<ul>\n",
    "    <li>\n",
    "        V <b>IPNS</b> kombinácia stredu a polomeru:<br>        \n",
    "        $ S = P_1 - \\frac{1}{2}r^2 e_\\infty $\n",
    "    </li>\n",
    "    <br>\n",
    "    <li>V <b>OPNS</b>:\n",
    "        <ol>\n",
    "            <li>\n",
    "            Wedge štyroch bodov ležiacich na ňom:  <br>  \n",
    "               $ S^{*} = P_1 \\wedge P_2 \\wedge P_3 \\wedge P_4 $\n",
    "            </li>\n",
    "            <li>\n",
    "                Wedge kruhu a bodu ležiaciach na danej guli:<br>  \n",
    "                $ S^{*} = C_1 \\wedge P_1 $\n",
    "            </li>\n",
    "            <li>\n",
    "                Wedge dvoch orientovaných dvojbodov (pair-pointov), ktorých body opäť ležia na danej guli:<br>  \n",
    "                $ S^{*} = PP_1 \\wedge PP_1 $\n",
    "            </li>        \n",
    "        </ol>\n",
    "    </li>\n",
    "</ul>\n",
    "\n",
    "### Dvojbod (<i>point pair</i>) je definovaný ako:\n",
    "<ul>\n",
    "    <li>\n",
    "        Prienik troch sfér v <b>IPNS</b>:<br>        \n",
    "        $ PP = S_1 \\wedge S_2 \\wedge S_3 $\n",
    "    </li>\n",
    "    <br>\n",
    "    <li>\n",
    "        Wedge dvoch bodov v <b>OPNS</b>:<br>  \n",
    "        $ PP^{*} = P_1 \\wedge P_2 $\n",
    "    </li>\n",
    "</ul>"
   ]
  },
  {
   "cell_type": "code",
   "execution_count": null,
   "metadata": {},
   "outputs": [],
   "source": [
    "# Import Conformal GA (4,1)\n",
    "from clifford.g3c import *\n",
    "\n",
    "# Import prebuilt tools for conformal GA\n",
    "from clifford.tools.g3c import *\n",
    "\n",
    "# Import pyganja for visualisation\n",
    "from pyganja import *\n"
   ]
  },
  {
   "cell_type": "markdown",
   "metadata": {},
   "source": [
    "## IPNS"
   ]
  },
  {
   "cell_type": "markdown",
   "metadata": {},
   "source": [
    "#### Sféra ako kombinácia konformného bodu, polomeru a $ e_\\infty $"
   ]
  },
  {
   "cell_type": "code",
   "execution_count": null,
   "metadata": {},
   "outputs": [],
   "source": [
    "gs1 = GanjaScene()\n",
    "\n",
    "polomer = 10\n",
    "origin = up(eo)\n",
    "\n",
    "# sfera pomocou vzorca davajuceho do suvislosti stred a polomer (v IPNS) --> Sfera No. 1\n",
    "S1_IPNS = origin - 0.5 * (polomer ** 2) * einf  \n",
    "S1_OPNS = S1_IPNS.dual()\n",
    "gs1.add_objects([S1_OPNS], label='Gula 1')\n",
    "\n",
    "bod_x, bod_y, bod_z = up(e1), up(e2), up(e3)  # vytvorime body na osach x,y,z\n",
    "\n",
    "line_x = bod_x ^ origin ^ einf\n",
    "gs1.add_objects([line_x], label='             Os X', color=Color.RED)\n",
    "\n",
    "line_y = bod_y ^ origin ^ einf\n",
    "gs1.add_objects([line_y], label='                   Os Y', color=Color.BLUE)\n",
    "\n",
    "line_z = bod_z ^ origin ^ einf\n",
    "gs1.add_objects([line_z], label='                          Os Z', color=Color.YELLOW)\n",
    "\n",
    "# nakreslime sferu so stredom v pociatku s polomerom 10\n",
    "draw(gs1, \n",
    "     static=False , \n",
    "     scale=0.091)"
   ]
  },
  {
   "cell_type": "markdown",
   "metadata": {},
   "source": [
    "## OPNS"
   ]
  },
  {
   "cell_type": "markdown",
   "metadata": {},
   "source": [
    "#### Sféra ako wedge 4 konformných bodov"
   ]
  },
  {
   "cell_type": "code",
   "execution_count": null,
   "metadata": {},
   "outputs": [],
   "source": [
    "gs2 = GanjaScene()\n",
    "\n",
    "\n",
    "S2_OPNS = origin ^ bod_x ^ bod_y ^ bod_z  # sfera ako wedge 4 bodov v OPNS --> Sfera No. 2\n",
    "gs2.add_objects([origin], color=Color.RED, label='O')\n",
    "gs2.add_objects([bod_x], color=Color.BLUE, label='bod_x')\n",
    "gs2.add_objects([bod_y], color=Color.GREEN, label='bod_y')\n",
    "gs2.add_objects([bod_z], color=Color.BLACK, label='bod_z')\n",
    "gs2.add_objects([S2_OPNS], color=Color.YELLOW, label='Gula 2')\n",
    "\n",
    "draw(gs2, static=True, scale=0.5)"
   ]
  },
  {
   "cell_type": "markdown",
   "metadata": {},
   "source": [
    "#### Sféra ako wedge konformného bodu a kruhu"
   ]
  },
  {
   "cell_type": "code",
   "execution_count": null,
   "metadata": {},
   "outputs": [],
   "source": [
    "gs3 = GanjaScene()\n",
    "\n",
    "C = random_circle()\n",
    "gs3.add_objects([origin], color=Color.BLACK, label='O')\n",
    "\n",
    "gs3.add_objects([C], color=Color.RED, label='Kruh')\n",
    "\n",
    "S3_OPNS = origin ^ C  # sfera ako wedge bodu a kruhu (v OPNS)--> Sfera No. 3\n",
    "gs3.add_objects([S3_OPNS], color=Color.GREEN, label='                      Gula 3')\n",
    "\n",
    "draw(gs3, static=True, scale=0.05)"
   ]
  },
  {
   "cell_type": "markdown",
   "metadata": {},
   "source": [
    "#### Point pair ako wedge dvoch koformnych bodov"
   ]
  },
  {
   "cell_type": "code",
   "execution_count": null,
   "metadata": {},
   "outputs": [],
   "source": [
    "gs4 = GanjaScene()\n",
    "\n",
    "PP1_OPNS = origin ^ bod_x  # point pair ako wedge (2 bodov v OPNS) --> point pair No. 1\n",
    "PP2_OPNS = bod_y ^ bod_z  # point pair ako wedge (2 bodov v OPNS) --> point pair No. 2\n",
    "\n",
    "gs4.add_objects([PP1_OPNS], color=Color.BLUE, label='Point Pair 1')\n",
    "gs4.add_objects([PP2_OPNS], color=Color.GREEN, label='Point Pair 2')\n",
    "\n",
    "draw(gs4, static=True, scale=0.5)\n",
    "\n"
   ]
  },
  {
   "cell_type": "markdown",
   "metadata": {},
   "source": [
    "#### Sféra ako prienik 2 point pairov"
   ]
  },
  {
   "cell_type": "code",
   "execution_count": null,
   "metadata": {},
   "outputs": [],
   "source": [
    "S4_OPNS = PP1_OPNS ^ PP2_OPNS  # sfera ako wedge dvoch point pairov --> sfera No. 4 \n",
    "gs4.add_objects([S4_OPNS], color=Color.RED, label='          Gula 4')\n",
    "\n",
    "draw(gs4, static=True, scale=0.5)"
   ]
  },
  {
   "cell_type": "markdown",
   "metadata": {},
   "source": [
    "## IPNS (Point Pair)"
   ]
  },
  {
   "cell_type": "markdown",
   "metadata": {},
   "source": [
    "#### Point Pair ako wedge 4 sfér"
   ]
  },
  {
   "cell_type": "code",
   "execution_count": null,
   "metadata": {},
   "outputs": [],
   "source": [
    "gs4 = GanjaScene()\n",
    "\n",
    "def get_IPNS_spheres_from_points(polomer, cga_points_lst, dynamic=True, step=2):\n",
    "    \"\"\"\n",
    "    Get a list of spheres with radius 'polomer' with cga_points_lst as their center points.\n",
    "    If dynamic is set to true (default), radius will be incremented by 'step' in every iteration.\n",
    "    \"\"\"\n",
    "    IPNS_spheres = []\n",
    "    for bod in cga_points_lst:\n",
    "        polomer = polomer + step if dynamic else polomer\n",
    "        IPNS_spehere = bod - 0.5 * (polomer ** 2) * einf\n",
    "        IPNS_spheres.append(IPNS_spehere)\n",
    "    return IPNS_spheres\n",
    "\n",
    "# vytvorime 3 gule s rovnakym polomerom (r=3) so stredmi okolo pociatku na jednotlivych osach kartezianskej sustavy   \n",
    "IPNS_spheres = get_IPNS_spheres_from_points(3, [bod_x, bod_y, bod_z], False) # list s danymi gulami v IPNS reprezentacii\n",
    "OPNS_spheres = [S.dual() for S in IPNS_spheres]  # list s danymi gulami v OPNS reprezentacii\n",
    "\n",
    "gs4.add_objects(OPNS_spheres)\n",
    "\n",
    "PP2_IPNS = IPNS_spheres[0] ^ IPNS_spheres[1] ^ IPNS_spheres[2]  # point pair ako wedge 3 sfer v OPNS\n",
    "gs4.add_objects([PP2_IPNS.dual()], color=Color.RED, label='         Point Pair')\n",
    "\n",
    "draw(gs4, static=False, scale=0.23)"
   ]
  }
 ],
 "metadata": {
  "kernelspec": {
   "display_name": "Python 3",
   "language": "python",
   "name": "python3"
  },
  "language_info": {
   "codemirror_mode": {
    "name": "ipython",
    "version": 3
   },
   "file_extension": ".py",
   "mimetype": "text/x-python",
   "name": "python",
   "nbconvert_exporter": "python",
   "pygments_lexer": "ipython3",
   "version": "3.7.4"
  }
 },
 "nbformat": 4,
 "nbformat_minor": 4
}
