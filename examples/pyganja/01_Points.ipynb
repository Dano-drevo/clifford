{
 "cells": [
  {
   "cell_type": "markdown",
   "metadata": {},
   "source": [
    "# Points"
   ]
  },
  {
   "cell_type": "markdown",
   "metadata": {},
   "source": [
    "## Part I of the semester project for 0AV  $ \\rightarrow $ see the [preface](00_0AV_semestralny_projekt.ipynb)\n"
   ]
  },
  {
   "cell_type": "markdown",
   "metadata": {},
   "source": [
    "Nech $ \\textbf{x} = x_1 e_1 + x_2 e_2 + x_3 e_3 $ je tzv. $ \\textit{nehomogénny bod} $, pričom $ x_i $ predstavuje súradnicu bodu na ose $ e_i $ v EGA a platí: \n",
    "\n",
    "$ \\|\\boldsymbol{x}\\| = \\sqrt{ x_{1}^{2} + x_{2}^{2} + x_{3}^{2} } $\n",
    "\n",
    "$ \\|\\boldsymbol{x^2}\\| = x_{1}^{2} + x_{2}^{2} + x_{3}^{2}  $\n",
    "\n",
    "Potom $ \\textbf{P} = \\textbf{x} + \\frac{1}{2} \\boldsymbol{x^{2}} e_\\infty + e_0 $ je tzv. _konformný bod_ CGA v **IPNS** reprezentácii.\n",
    "\n",
    "Eventuálne ešte body môžeme vyjadriť(v IPNS) ako prieniky geometrických objektov vyššieho stupňa, ako napríklad:\n",
    "<ul>\n",
    "    <li>\n",
    "        prienik dvoch priamok \n",
    "    </li>\n",
    "    <li>\n",
    "        prienik priamky a roviny\n",
    "    </li>\n",
    "    <li>\n",
    "        a tak ďalej\n",
    "    </li>\n",
    "</ul>"
   ]
  },
  {
   "cell_type": "code",
   "execution_count": null,
   "metadata": {},
   "outputs": [],
   "source": [
    "from clifford.g3c import *\n",
    "from clifford.tools.g3c import *\n",
    "from clifford.tools.g3c.object_clustering import *\n",
    "from pyganja import *\n",
    "\n",
    "from pprint import pprint as p"
   ]
  },
  {
   "cell_type": "markdown",
   "metadata": {},
   "source": [
    "#### Body Geometrickej Algebry"
   ]
  },
  {
   "cell_type": "code",
   "execution_count": null,
   "metadata": {},
   "outputs": [],
   "source": [
    "euclidian_point=3*e1 + 4*e2  # bod v EGA\n",
    "p(type(euclidian_point))\n",
    "p(euclidian_point)\n",
    "p(abs(euclidian_point))  # vieme najst euklidovsku normu vektoru\n",
    "\n",
    "print(\"\\n...INTERMEZZO...\\n\")\n",
    "\n",
    "cga_point = up(euclidian_point)  # bod v CGA\n",
    "p(type(cga_point))\n",
    "p(cga_point)\n",
    "p(abs(cga_point))  \n",
    "\n",
    "# is it True ?\n",
    "down(cga_point) == euclidian_point == down(up(euclidian_point))  # it is !"
   ]
  },
  {
   "cell_type": "markdown",
   "metadata": {},
   "source": [
    "#### Konformný bod v CGA pomocou vzorca implementovného vo vlastnej funkcii a funkcie $ up() $ z balíčka <i>Clifford</i>"
   ]
  },
  {
   "cell_type": "markdown",
   "metadata": {},
   "source": [
    "Ako je možné z výstupu nižšie vidieť, funkcia $ up() $ z balicku <i>Clifford</i> počíta konformné body v CGA správne, keďže nám výsledky sedia so vzorcom:"
   ]
  },
  {
   "cell_type": "code",
   "execution_count": null,
   "metadata": {
    "scrolled": true
   },
   "outputs": [],
   "source": [
    "def ga_points_to_cga(ga_point_lst: list) -> list:\n",
    "    \"\"\"\n",
    "    Get a list of CGA points in IPNS from <ga_point_lst>.\n",
    "    <ga_point_lst>:  a list containing EGA points (e.g. [2*e2+e3, e1,]) \n",
    "    \"\"\"\n",
    "    cga_lst = []\n",
    "    for ga_point in ga_point_lst:\n",
    "        cga_point = ga_point + 0.5*(ga_point**2)*einf + eo  # konformny bod CGA (pomocou vzorca)\n",
    "        cga_lst.append(cga_point)\n",
    "    return cga_lst\n",
    "\n",
    "origin = eo\n",
    "bod1_ga = 10*e1\n",
    "bod2_ga = 3*e2 + 4*e3\n",
    "body_ga = [origin, bod1_ga, bod2_ga]  \n",
    "\n",
    "body_cga = {}\n",
    "\n",
    "# aplikujeme funkciu 'up()' na kazdy element z listu 'body_ga' a tym vytvorime list obsahujuci len konformne body CGA\n",
    "body_cga['IPNS_with_up'] = list(map(up, body_ga))  \n",
    "body_cga['IPNS_with_formula'] = ga_points_to_cga(body_ga)\n",
    "\n",
    "p(body_cga)   # vidime, ze jednotlive body, tak ako s nimi pracuje python sa neodlisuju co je spravne"
   ]
  },
  {
   "cell_type": "markdown",
   "metadata": {},
   "source": [
    "#### Zobrazenie bodov CGA pomocou triedy  $ GanjaScene() $ z balíčka <i>PyGanja</i>"
   ]
  },
  {
   "cell_type": "code",
   "execution_count": null,
   "metadata": {},
   "outputs": [],
   "source": [
    "gs = GanjaScene()\n",
    "\n",
    "for bod in body_cga['IPNS_with_up']:\n",
    "    list_index = body_cga['IPNS_with_up'].index(bod)\n",
    "    label = f\"bod {body_cga['IPNS_with_up'].index(bod)}\"\n",
    "    color_hex_num = 1000**list_index\n",
    "    \n",
    "    gs.add_objects([bod], color=color_hex_num, label=label)\n",
    "    \n",
    "    \n",
    "draw(gs, scale=0.1, static=False)"
   ]
  }
 ],
 "metadata": {
  "kernelspec": {
   "display_name": "Python 3",
   "language": "python",
   "name": "python3"
  },
  "language_info": {
   "codemirror_mode": {
    "name": "ipython",
    "version": 3
   },
   "file_extension": ".py",
   "mimetype": "text/x-python",
   "name": "python",
   "nbconvert_exporter": "python",
   "pygments_lexer": "ipython3",
   "version": "3.7.4"
  }
 },
 "nbformat": 4,
 "nbformat_minor": 4
}
