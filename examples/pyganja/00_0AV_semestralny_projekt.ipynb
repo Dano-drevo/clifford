{
 "cells": [
  {
   "cell_type": "markdown",
   "metadata": {},
   "source": [
    "# <h1><center> 0AV - Semestrálny projekt </center></h1>\n",
    "## <h2><center> Využitie pythonu na vizualizáciu objektov a operácii v CGA </center></h2> "
   ]
  },
  {
   "cell_type": "markdown",
   "metadata": {},
   "source": [
    "### <h3><center>Preface</center></h3>\n",
    "Obsahom tejto práce je pomocou python balíčkov <i> Clifford </i> a <i> PyGanja </i> ukázať základné operácie v CGA(Konformnej geometrickej algebre), demonštrovať výhody symbolického matematického aparátu CGA v dvoch rôznych reprezentáciach (<b>IPNS</b> & <b>OPNS</b>), a to hlavne oproti \"klasickej\" Euklidovskej geometrii.\n",
    "\n",
    "Vrámci tohto projektu som spracoval základné možnosti ako vytvárať a používať objekty CGA v pythone pomocou knižnice  <i> Clifford </i>. Tieto skutočnosti som vizuálne demonštroval užitím vizualizačného balíčku <i> PyGanja </i>.\n",
    "\n",
    "Vypracoval som a schématicky rozdelil tento projekt na jednotlivé logické celky, v ktorých sú rozoberané jednotlivé základné geometrické útvary či telesá.\n",
    "\n",
    "Posledný celok tvoria transformácie (translácia, reflekcia a rotácia).\n",
    "\n",
    "Pôvodne som mal v pláne aj jeden väčší projekt, v ktorom by sa spojili a naviazali všetky informácie z predchádzajúcich zápisníkov, ale nakoľko naprieč jednotlivými zápisnikmi \"nie je núdza\" o rôzne príklady, tak je po ich prečítaní možné tieto informácie implementovať do komplexnejšieho projektu aj bez vysokej dávky kreativity či nadhľadu."
   ]
  },
  {
   "cell_type": "markdown",
   "metadata": {},
   "source": [
    "## Obsah:\n",
    "Part I   - [Body](01_Points.ipynb) <br>\n",
    "Part II  - [Priamky](02_Lines.ipynb) <br>\n",
    "Part III - [Kruhy & Roviny](03_Circles_and_Planes.ipynb) <br>\n",
    "Part IV  - [Gule & Dvojbody (Pair Points)](04_Spheres_and_Point_Pairs.ipynb) <br>\n",
    "Part V   - [Transformácie (translácia, reflekcia & rotácia)](05_Translation_Reflection_and_Rotation.ipynb) "
   ]
  },
  {
   "cell_type": "markdown",
   "metadata": {},
   "source": [
    "<b>Kontakt:</b><br><i>Daniel Laktič</i><br> 183437@vutbr.cz <br> daniel.laktic@gmail.com"
   ]
  }
 ],
 "metadata": {
  "kernelspec": {
   "display_name": "Python 3",
   "language": "python",
   "name": "python3"
  },
  "language_info": {
   "codemirror_mode": {
    "name": "ipython",
    "version": 3
   },
   "file_extension": ".py",
   "mimetype": "text/x-python",
   "name": "python",
   "nbconvert_exporter": "python",
   "pygments_lexer": "ipython3",
   "version": "3.7.4"
  }
 },
 "nbformat": 4,
 "nbformat_minor": 4
}
