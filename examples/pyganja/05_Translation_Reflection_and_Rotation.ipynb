{
 "cells": [
  {
   "cell_type": "markdown",
   "metadata": {},
   "source": [
    "# Translators, Reflections & Rotors"
   ]
  },
  {
   "cell_type": "markdown",
   "metadata": {},
   "source": [
    "## Part V (the last one) of the semester project for 0AV $ \\rightarrow $ see the [preface](00_0AV_semestralny_projekt.ipynb)"
   ]
  },
  {
   "cell_type": "code",
   "execution_count": null,
   "metadata": {},
   "outputs": [],
   "source": [
    "# Import Conformal GA (4,1)\n",
    "from clifford.g3c import *\n",
    "\n",
    "# Import prebuilt tools for conformal GA\n",
    "from clifford.tools.g3c import *\n",
    "\n",
    "# Import pyganja for visualisation\n",
    "from pyganja import *\n",
    "\n",
    "import numpy as np"
   ]
  },
  {
   "cell_type": "markdown",
   "metadata": {},
   "source": [
    "# Translátor\n",
    "### Translátor je definovaný ako:\n",
    "\n",
    "$ T = 1 - \\frac{1}{2} \\boldsymbol{t} e_\\infty $ ,<br>\n",
    "kde $ \\boldsymbol{t} = t_1 e_1 + t_2 e_2 + t_3 e_3 $ je vektor a znamienko $ - $(respektíve $ + $) v tomto dvojčlene značí posunutie v smere(respektíve proti smeru) vektora $ \\boldsymbol{t} $.\n",
    "\n",
    "#### Potom\n",
    "z objektu $ X $ získame posunutý objekt $ \\overline{X} $(o vektor $ \\boldsymbol{t}) $ ako: $ \\overline{X} = T X \\tilde{T} $ ,<br>\n",
    "kde $ \\tilde{T} $ je tzv. <i>reverzný translátor</i> (platí $ T\\tilde{T} = 1 $).\n",
    "\n"
   ]
  },
  {
   "cell_type": "markdown",
   "metadata": {},
   "source": [
    "#### Translácia sféry v smere osi $ x $"
   ]
  },
  {
   "cell_type": "code",
   "execution_count": null,
   "metadata": {},
   "outputs": [],
   "source": [
    "gs1 = GanjaScene()\n",
    "gs1.add_objects([up(eo)], label='O', color=Color.RED)  # zakreslime pociatok\n",
    "\n",
    "S1_IPNS = eo - einf  # zakreslime sferu v pociatku  (1/2 * r^2 = 1 --> r = sqrt(2)\n",
    "gs1.add_objects([S1_IPNS], label='      S1', color=Color.GREEN)\n",
    "\n",
    "\n",
    "t = 4*e1  # vektor posunutia definujeme ako posunutie o 4 jednotky po osi 'x'\n",
    "T = 1 - 0.5 * t * einf  # vytvorime translator  --> T = 1 - 2*eo*einf\n",
    "T_r = ~T  # reverzny translator\n",
    "\n",
    "S_trans_OPNS = T * S1_IPNS.dual() * T_r\n",
    "gs1.add_objects([S_trans_OPNS], label='       Translated S1')\n",
    "\n",
    "\n",
    "draw(gs1, static=False, scale=0.22)"
   ]
  },
  {
   "cell_type": "markdown",
   "metadata": {},
   "source": [
    "# Reflekcia:\n",
    "\n",
    "Reflekciou objektu $ \\boldsymbol{v} $ do roviny $ \\pi $ získame reflektovaný objekt ako $ \\overline{\\boldsymbol{v}} = \\pi \\boldsymbol{v} \\pi $ ,<br>\n",
    "kde $ \\pi \\boldsymbol{v} $ (respektíve $ \\boldsymbol{v} \\pi $) je geometrický produkt $ \\pi $ a $ \\boldsymbol{v} $ (respektíve $ \\boldsymbol{v} $ a $ \\pi $).\n",
    " \n",
    "\n"
   ]
  },
  {
   "cell_type": "markdown",
   "metadata": {},
   "source": [
    "#### Reflekcia point pairu cez rovinu"
   ]
  },
  {
   "cell_type": "code",
   "execution_count": null,
   "metadata": {},
   "outputs": [],
   "source": [
    "origin = up(eo)\n",
    "origin_plane_OPNS = up(e2) ^ up(e3) ^ origin ^ einf\n",
    "X = up(3*e1 + 3*e2 + 3*e3 )  # point\n",
    "PP_OPNS = X ^ origin  # point pair\n",
    "PP_OPNS_REFLECTED = origin_plane_OPNS * PP_OPNS * origin_plane_OPNS\n",
    "\n",
    "gs2 = GanjaScene()\n",
    "gs2.add_objects([origin], label='O')  # zakreslime pociatok\n",
    "gs2.add_objects([origin_plane_OPNS], color=Color.RED)  # zakreslime rovinu\n",
    "\n",
    "gs2.add_objects([PP_OPNS], color=Color.BLUE, label='Point Pair')  # zakreslime pociatok\n",
    "gs2.add_objects([PP_OPNS_REFLECTED], color=Color.GREEN, label='  Reflected Point Pair')  # zakreslime pociatok\n",
    "\n",
    "draw(gs2, static=False, scale=0.25)"
   ]
  },
  {
   "cell_type": "markdown",
   "metadata": {},
   "source": [
    "#### Reflekcia sféry cez rovinu"
   ]
  },
  {
   "cell_type": "code",
   "execution_count": null,
   "metadata": {},
   "outputs": [],
   "source": [
    "r = 2\n",
    "S1_IPNS = up(10*e1+10*e2) - 0.5 * (r ** 2) * einf  \n",
    "S1_OPNS = S1_IPNS.dual()\n",
    "\n",
    "S1_OPNS_REFLECTED = origin_plane_OPNS * S1_OPNS * origin_plane_OPNS\n",
    "\n",
    "gs3 = GanjaScene()\n",
    "gs3.add_objects([origin_plane_OPNS], color=Color.RED, label='Reflecting plane')\n",
    "\n",
    "gs3.add_objects([S1_OPNS], color=Color.YELLOW, label='      Orig. Sphere')  # zakreslime povodnu sferu\n",
    "gs3.add_objects([S1_OPNS_REFLECTED], color=Color.BLUE, label='     Reflect. Sphere')  # reflektovanu sferu\n",
    "\n",
    "draw(gs3, static=False, scale=0.1)"
   ]
  },
  {
   "cell_type": "markdown",
   "metadata": {},
   "source": [
    "# Rotor"
   ]
  },
  {
   "cell_type": "markdown",
   "metadata": {},
   "source": [
    "## Rotor je definovaný ako:\n",
    "\n",
    "$ R = e ^ { - \\frac{\\phi}{2} L} $ ,<br>\n",
    "kde $ L $ je os rotácie reprezentovaná normalizovaným bivektorom, kt. nájdeme ako duál k priamke osi rotácie(v OPNS).\n",
    "\n",
    "Rotor sa dá vyjadriť pomocou goniometrických funkcií ako:<br>\n",
    "$ R = cos(\\frac{\\phi}{2}) - L sin(\\frac{\\phi}{2}) $\n",
    "#### Potom\n",
    "z objektu $ X $ získame orotovaný objekt $ \\overline{X} $ ako:\n",
    "$ \\overline{X} = R X \\tilde{R} $<br>\n",
    "kde $ \\tilde{R} $ je tzv. <i>reverzný rotor</i>(platí $ R\\tilde{R} = 1 $)."
   ]
  },
  {
   "cell_type": "markdown",
   "metadata": {},
   "source": [
    "#### Rotácia sféry okolo osi $ x $"
   ]
  },
  {
   "cell_type": "code",
   "execution_count": null,
   "metadata": {
    "scrolled": true
   },
   "outputs": [],
   "source": [
    "def rotor(angle, line):\n",
    "    return math.cos(angle/2.0) + math.sin(angle/2.0)*line.normal()\n",
    "\n",
    "rotation_axis = up(eo) ^ up(e1) ^ up(einf)\n",
    "bivector =  rotation_axis.dual()\n",
    "\n",
    "max_angle = 0.8*(2*np.pi)\n",
    "elements_num = 8\n",
    "angles_lst = [max_angle / elements_num * i for i in range(elements_num + 1)]\n",
    "\n",
    "\n",
    "gs4 = GanjaScene()\n",
    "gs4.add_objects([rotation_axis], color=Color.RED, label='Rotation Axis')\n",
    "\n",
    "counter = 1\n",
    "for angle in angles_lst:\n",
    "    R = rotor(angle, bivector)   # vytvorime rotor\n",
    "    rotated_obj = R * S1_OPNS * ~R  #  otocime povodnu sferu\n",
    "    label = '      Orig. Sphere' if counter == 1 else f'      Sphere No.{counter}'\n",
    "    gs4.add_objects([rotated_obj.clean()], color=counter**5, label=label) \n",
    "    counter += 1"
   ]
  },
  {
   "cell_type": "code",
   "execution_count": null,
   "metadata": {},
   "outputs": [],
   "source": [
    "draw(gs4, static=False, scale=0.08)"
   ]
  },
  {
   "cell_type": "markdown",
   "metadata": {},
   "source": [
    "# Motor (zložený rotor-translátor)"
   ]
  },
  {
   "cell_type": "markdown",
   "metadata": {},
   "source": [
    "Nech $ T $ je translátor a $ R $ rotor.<br>\n",
    "Motor $ M $ potom zadefinujeme ako geometrický produkt týchto dvoch transformátorov:\n",
    "\n",
    "$ M  = R * T $ (respektíve $ M = RT $ podľa notácie primárne použitej v tomto texte).\n",
    "\n",
    "Potom tento transformátor môžeme použiť na transformáciu elementu $ X $ ako $ \\overline{X} = M X \\tilde{M} $\n",
    "\n",
    "\n",
    "Táto operácia (geometrický produkt transformátorov) je komutatívna a opisuje rotáciu elementu $ X $ pomocou rotoru $ R $ a zároveň posun tohto elementu užitím translátora $ T $."
   ]
  },
  {
   "cell_type": "markdown",
   "metadata": {},
   "source": [
    "#### Rotácia sféry okolo a posunutie proti osi $ x $<br>"
   ]
  },
  {
   "cell_type": "code",
   "execution_count": null,
   "metadata": {},
   "outputs": [],
   "source": [
    "gs5 = GanjaScene()\n",
    "gs5.add_objects([rotation_axis], color=Color.RED, label='Rotation-Translation Axis')\n",
    "\n",
    "elements_num = 15\n",
    "\n",
    "max_angle = 2*np.pi\n",
    "angles_lst = [max_angle / elements_num * i for i in range(elements_num + 1)]\n",
    "\n",
    "t = -30*e1  # vektor posunutia definujeme ako posunutie o 30 jednotiek proti osi rotacie 'x'\n",
    "dilation_vectors_lst = [t / elements_num * i for i in range(elements_num + 1)]\n",
    "\n",
    "lst1=lst2=[]\n",
    "counter = 1\n",
    "for angle, dilation_vector in zip(angles_lst, dilation_vectors_lst):\n",
    "    R = rotor(angle, bivector)  # vytvorime rotor\n",
    "    T = 1 - 0.5 * dilation_vector * einf  # vytvorime translator\n",
    "    RT = R * T  #  rotor-translator definujeme ako geometricky produkt rotoru a translatoru\n",
    "    lst1.append(RT)\n",
    "    lst2.append(T*R)\n",
    "    rotated_obj = RT * S1_OPNS * ~RT  #  otocime a posunieme povodnu sferu\n",
    "    label = '      Orig. Sphere' if counter == 1 else f'      Sphere No.{counter}'\n",
    "    gs5.add_objects([rotated_obj.clean()], color=counter**5, label=label) \n",
    "    counter += 1\n",
    "draw(gs5, static=False, scale=0.05)"
   ]
  }
 ],
 "metadata": {
  "kernelspec": {
   "display_name": "Python 3",
   "language": "python",
   "name": "python3"
  },
  "language_info": {
   "codemirror_mode": {
    "name": "ipython",
    "version": 3
   },
   "file_extension": ".py",
   "mimetype": "text/x-python",
   "name": "python",
   "nbconvert_exporter": "python",
   "pygments_lexer": "ipython3",
   "version": "3.7.4"
  }
 },
 "nbformat": 4,
 "nbformat_minor": 4
}
