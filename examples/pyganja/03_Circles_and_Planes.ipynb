{
 "cells": [
  {
   "cell_type": "markdown",
   "metadata": {},
   "source": [
    "# Circles & Planes"
   ]
  },
  {
   "cell_type": "markdown",
   "metadata": {},
   "source": [
    "## Part III of the semester project for 0AV  $ \\rightarrow $ see the [preface](00_0AV_semestralny_projekt.ipynb)"
   ]
  },
  {
   "cell_type": "markdown",
   "metadata": {},
   "source": [
    "# Circles\n",
    "### Kruh je definovaný ako:\n",
    "<ul>\n",
    "    <li>\n",
    "        Prienik dvoch sfér v <b>IPNS</b>:<br>        \n",
    "        $ C = S_1 \\wedge S_2 $\n",
    "    </li>\n",
    "    <br>\n",
    "    <li>\n",
    "        Wedge troch bodov ležiacich na ňom  v <b>OPNS</b>:<br>\n",
    "        $ C^{*} = P_1 \\wedge P_2  \\wedge P_3 $ <br><br>\n",
    "        Respektíve wedgom dvojbodu (<i>point pairu</i>) $ PP = P_1 P_2 $ a bodom $ P_3 $, pričom body $ P_1,P_2,P_3 $ ležia na danej kružnici: <br>\n",
    "        $ C^{*} = PP \\wedge P_3 $\n",
    "    </li>\n",
    "</ul>"
   ]
  },
  {
   "cell_type": "code",
   "execution_count": null,
   "metadata": {},
   "outputs": [],
   "source": [
    "# Import Conformal GA (4,1)\n",
    "from clifford.g3c import *\n",
    "\n",
    "# Import prebuilt tools for conformal GA\n",
    "from clifford.tools.g3c import *\n",
    "\n",
    "# Import pyganja for visualisation\n",
    "from pyganja import *\n",
    "\n",
    "import numpy as np"
   ]
  },
  {
   "cell_type": "markdown",
   "metadata": {},
   "source": [
    "## OPNS"
   ]
  },
  {
   "cell_type": "markdown",
   "metadata": {},
   "source": [
    "#### Kruh ako wedge 3 konformných bodov"
   ]
  },
  {
   "cell_type": "code",
   "execution_count": null,
   "metadata": {},
   "outputs": [],
   "source": [
    "gs1 = GanjaScene()\n",
    "\n",
    "origin = up(eo)\n",
    "other_point = up(100*e1)\n",
    "some_other_point = up(100*e1+100*e3)\n",
    "gs1.add_objects([origin], label='O')\n",
    "gs1.add_objects([other_point], label='Some point')\n",
    "gs1.add_objects([some_other_point], label='Some other point')\n",
    "\n",
    "\n",
    "C1_OPNS = origin ^ other_point ^ some_other_point  # prienik 3 bodov v OPNS --> kruh No. 1\n",
    "\n",
    "circle_array = [\n",
    "    C1_OPNS,\n",
    "]\n",
    "\n",
    "\n",
    "gs1.add_objects(circle_array, label='Kruh 1', color=Color.RED)\n",
    "draw(gs1, scale=0.01, static=False)\n"
   ]
  },
  {
   "cell_type": "markdown",
   "metadata": {},
   "source": [
    "#### Kruh ako wedge point pairu a počiatku($ e_0 $)"
   ]
  },
  {
   "cell_type": "code",
   "execution_count": null,
   "metadata": {},
   "outputs": [],
   "source": [
    "gs2 = GanjaScene()\n",
    "\n",
    "PP_OPNS = other_point ^ some_other_point  # point pair\n",
    "gs2.add_objects([PP_OPNS], color=Color.RED, label='      Point Pair')\n",
    "gs2.add_objects([origin], color=Color.BLACK, label='  O')\n",
    "\n",
    "C2 = PP_OPNS ^ origin  # prienik point pairu a bodu v OPNS --> kruh No. 2\n",
    "gs2.add_objects([C2], color=Color.BLUE, label='     Kruh 2')\n",
    "draw(gs2, scale=0.01, static=False)"
   ]
  },
  {
   "cell_type": "markdown",
   "metadata": {},
   "source": [
    "## IPNS"
   ]
  },
  {
   "cell_type": "markdown",
   "metadata": {},
   "source": [
    "#### Kruh ako prienik 2 sfér"
   ]
  },
  {
   "cell_type": "code",
   "execution_count": null,
   "metadata": {},
   "outputs": [],
   "source": [
    "gs3 = GanjaScene()\n",
    "\n",
    "S1_OPNS = (4.66255^e1234) + (4.6981^e1235) - (0.12986^e1245) + (0.78657^e1345) + (0.17773^e2345)  # random_sphere 1\n",
    "S2_OPNS = -(0.72855^e1234) - (0.69763^e1235) - (0.54282^e1245) - (0.5651^e1345) - (0.65582^e2345) # random_sphere 2\n",
    "gs3.add_objects([S1_OPNS, S2_OPNS])\n",
    "\n",
    "C3_IPNS = S1_OPNS.dual() ^ S2_OPNS.dual()  # prienik dvoch guli v IPNS --> kruh No. 3\n",
    "\n",
    "\n",
    "gs3.add_objects([C3_IPNS.dual()], label='          Kruh 3', color=Color.RED)\n",
    "draw(gs3, scale=0.033, static=False)\n"
   ]
  },
  {
   "cell_type": "markdown",
   "metadata": {},
   "source": [
    "# Planes\n",
    "### Rovina je definovaná ako:\n",
    "<ul>\n",
    "    <li>\n",
    "        Kombinácia <i>3D</i> normálového vektora a vzdialenosti od počiatku v <b>IPNS</b>:<br>        \n",
    "        $ \\pi = \\boldsymbol{n} + d e_\\infty $\n",
    "    </li>\n",
    "    <br>\n",
    "    <li>\n",
    "        Wedge troch na nej ležiacich bodov v <b>OPNS</b>:<br>  \n",
    "        $ \\pi^{*} = P_1 \\wedge P_2 \\wedge P3 \\wedge e_\\infty $ <br><br>\n",
    "        Respektíve wedgom kruhu a bodom v nekonečne: <br>\n",
    "        $ \\pi^{*} = C \\wedge e_\\infty $\n",
    "    </li>\n",
    "</ul>"
   ]
  },
  {
   "cell_type": "markdown",
   "metadata": {},
   "source": [
    "## IPNS"
   ]
  },
  {
   "cell_type": "markdown",
   "metadata": {},
   "source": [
    "#### Rovina ako kombinácia normálového vektoru a vzdialenosti roviny od počiatku($ e_0 $)"
   ]
  },
  {
   "cell_type": "code",
   "execution_count": null,
   "metadata": {},
   "outputs": [],
   "source": [
    "gs4 = GanjaScene()\n",
    "distance = 10\n",
    "normal_vector = e3\n",
    "\n",
    "origin = up(eo)\n",
    "gs4.add_objects([origin], label='O', color=Color.RED)\n",
    "\n",
    "H1_IPNS = normal_vector + distance * einf  # rovina No. 1 v IPNS\n",
    "gs4.add_objects([H1_IPNS.dual()], label='   Rovina 1')\n",
    "\n",
    "H2_IPNS = normal_vector + (10 * distance) * einf  # rovina No. 2 v IPNS\n",
    "gs4.add_objects([H2_IPNS.dual()], label='   Rovina 2')\n",
    "\n",
    "H3_IPNS = (normal_vector * (-1) ) + (10 * distance) * einf  # rovina No. 3 v IPNS\n",
    "gs4.add_objects([H3_IPNS.dual()], label='   Rovina 3')\n",
    "\n",
    "normal_line_OPNS = origin ^ up(normal_vector) ^ einf  # priamka v OPNS\n",
    "gs4.add_objects([normal_line_OPNS], label='        Normala', color=Color.BLUE)\n",
    "\n",
    "draw(gs4, scale=0.01, static=False)"
   ]
  },
  {
   "cell_type": "code",
   "execution_count": null,
   "metadata": {},
   "outputs": [],
   "source": [
    "planes_angle_cos = abs(H2_IPNS.dual().normal() | H3_IPNS.dual().normal())\n",
    "planes_angle = np.arccos(planes_angle_cos)\n",
    "print(f'Uhol rovnobeznych rovin je: {planes_angle} radianov.')"
   ]
  },
  {
   "cell_type": "markdown",
   "metadata": {},
   "source": [
    "## OPNS"
   ]
  },
  {
   "cell_type": "markdown",
   "metadata": {},
   "source": [
    "#### Rovina ako wedge kruhu a  $ e_\\infty $"
   ]
  },
  {
   "cell_type": "code",
   "execution_count": null,
   "metadata": {},
   "outputs": [],
   "source": [
    "gs5 = gs1\n",
    "\n",
    "H4_OPNS = C2 ^ einf  # wedge kruhu a bodu v nekonecne (v OPNS)\n",
    "gs5.add_objects([H4_OPNS], label='                   Rovina 4', color=Color.YELLOW)\n",
    "draw(gs5, scale=0.01, static=False)"
   ]
  },
  {
   "cell_type": "markdown",
   "metadata": {},
   "source": [
    "#### Rovina ako wedge 3 konformných bodov a  $ e_\\infty $"
   ]
  },
  {
   "cell_type": "code",
   "execution_count": null,
   "metadata": {},
   "outputs": [],
   "source": [
    "extra_point = up(100*e2)\n",
    "gs5.add_objects([extra_point], label='  BOD X', color=Color.YELLOW)\n",
    "\n",
    "other_extra_point = up(100*e3)\n",
    "gs5.add_objects([other_extra_point], label='  BOD Y', color=Color.BLUE)\n",
    "\n",
    "H5_OPNS = extra_point ^ other_extra_point ^ origin ^ einf  # wedge troch bodov a bodu v nekonecne\n",
    "gs5.add_objects([H5_OPNS], label='        Rovina 5', color=Color.GREEN)\n",
    "\n",
    "draw(gs5, scale=0.01, static=False)"
   ]
  },
  {
   "cell_type": "markdown",
   "metadata": {},
   "source": [
    "#### Uhol zvieraný dvoma (tu kolmými) rovinami"
   ]
  },
  {
   "cell_type": "code",
   "execution_count": null,
   "metadata": {},
   "outputs": [],
   "source": [
    "plane_xy, plane_yz = H4_OPNS, H5_OPNS\n",
    "\n",
    "planes_angle_cos = abs(plane_xy.normal() | plane_yz.normal())\n",
    "planes_angle_rad = np.arccos(planes_angle_cos)\n",
    "planes_angle_grad = math.degrees(planes_angle_rad)\n",
    "print(f'Uhol zvierany rovinami je: {planes_angle_grad} stupnov.')\n",
    "\n",
    "message = \"Roviny sú si kolmé.\" if planes_angle_grad == 90 else 'Roviny nie sú kolmé.'\n",
    "print(message)"
   ]
  }
 ],
 "metadata": {
  "kernelspec": {
   "display_name": "Python 3",
   "language": "python",
   "name": "python3"
  },
  "language_info": {
   "codemirror_mode": {
    "name": "ipython",
    "version": 3
   },
   "file_extension": ".py",
   "mimetype": "text/x-python",
   "name": "python",
   "nbconvert_exporter": "python",
   "pygments_lexer": "ipython3",
   "version": "3.7.4"
  }
 },
 "nbformat": 4,
 "nbformat_minor": 4
}
